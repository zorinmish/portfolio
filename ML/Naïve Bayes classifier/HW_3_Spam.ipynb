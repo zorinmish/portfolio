{
 "cells": [
  {
   "cell_type": "markdown",
   "metadata": {},
   "source": [
    "# Spam Classification (Naive Bayes Classifier)"
   ]
  },
  {
   "cell_type": "code",
   "execution_count": 1,
   "metadata": {},
   "outputs": [],
   "source": [
    "import json\n",
    "import numpy as np\n",
    "import pandas as pd\n",
    "import os\n",
    "from numpy import random\n",
    "\n",
    "from sklearn.model_selection import train_test_split\n",
    "from tqdm import tqdm_notebook as progressbar\n",
    "\n",
    "import matplotlib.pyplot as plt\n",
    "%matplotlib inline\n",
    "\n",
    "import warnings\n",
    "warnings.filterwarnings(\"ignore\")\n",
    "\n",
    "plt.rcParams['figure.figsize'] = [9, 6]"
   ]
  },
  {
   "cell_type": "code",
   "execution_count": 2,
   "metadata": {},
   "outputs": [],
   "source": [
    "def load_json_from_file(filename):\n",
    "    with open(filename, \"r\", encoding=\"utf-8\") as f:\n",
    "        return json.load(f)"
   ]
  },
  {
   "cell_type": "code",
   "execution_count": 3,
   "metadata": {},
   "outputs": [],
   "source": [
    "emails_tokenized_ham = load_json_from_file(\"C:\\dev\\GL Basecamp\\Spam Classifier\\emails-tokenized-ham.json\")\n",
    "emails_tokenized_spam = load_json_from_file(\"C:\\dev\\GL Basecamp\\Spam Classifier\\emails-tokenized-spam.json\")\n",
    "vocab = load_json_from_file(\"vocab.json\")"
   ]
  },
  {
   "cell_type": "code",
   "execution_count": 4,
   "metadata": {},
   "outputs": [],
   "source": [
    "import itertools\n",
    "vocab_set = set(itertools.chain(*emails_tokenized_ham)).union(set(itertools.chain(*emails_tokenized_spam)))"
   ]
  },
  {
   "cell_type": "code",
   "execution_count": 5,
   "metadata": {},
   "outputs": [],
   "source": [
    "vocab = {\n",
    "    word: index\n",
    "    for index, word in enumerate(sorted(list(vocab_set)))\n",
    "}"
   ]
  },
  {
   "cell_type": "markdown",
   "metadata": {},
   "source": [
    "#### First time of vectorization - BoW - Bag of words\n",
    "\n",
    "Create 2D-matrix with number of occurrences any word from dictionary in any letter from data"
   ]
  },
  {
   "cell_type": "code",
   "execution_count": 6,
   "metadata": {},
   "outputs": [],
   "source": [
    "def email_to_vector_bow(email_words, vocab):\n",
    "    email_vec = np.zeros(len(vocab), dtype=\"int32\")\n",
    "    \n",
    "    for word in email_words:\n",
    "        email_vec[vocab[word]] = email_vec[vocab[word]]+1   # here was the mistake that drove me crazy - email_vec[vocab[word]]=1\n",
    "     #really terrible when mistakes happen in the beginnig of the program       \n",
    "    return email_vec"
   ]
  },
  {
   "cell_type": "code",
   "execution_count": 7,
   "metadata": {},
   "outputs": [
    {
     "name": "stdout",
     "output_type": "stream",
     "text": [
      "5542\n",
      "34133\n",
      "(5542, 34133)\n"
     ]
    }
   ],
   "source": [
    "X_1 = [\n",
    "    email_to_vector_bow(email, vocab)\n",
    "    for email in emails_tokenized_ham + emails_tokenized_spam\n",
    "]\n",
    "print(len(emails_tokenized_ham + emails_tokenized_spam)) # number of letters\n",
    "print(len(vocab)) # size of dictionary, total amount of unique words\n",
    "print(np.shape(X_1))# result - 2D-matrix where (i,j) is number of word j in letter "
   ]
  },
  {
   "cell_type": "markdown",
   "metadata": {},
   "source": [
    "#### Second type of vectorization - Multinomial"
   ]
  },
  {
   "cell_type": "markdown",
   "metadata": {},
   "source": [
    "Create vector of arrays, each array contains ID's of words from dictionary"
   ]
  },
  {
   "cell_type": "code",
   "execution_count": 8,
   "metadata": {},
   "outputs": [],
   "source": [
    "def email_to_vector_multinomial(email_words, vocab):\n",
    "    \n",
    "    return np.array([vocab[word] for word in email_words], dtype=\"int32\")"
   ]
  },
  {
   "cell_type": "code",
   "execution_count": 9,
   "metadata": {},
   "outputs": [
    {
     "name": "stdout",
     "output_type": "stream",
     "text": [
      "date\n",
      "6753\n",
      "5542\n",
      "[ 6753 32387 20419  1845 20419 20419 20419]\n",
      "(5542,)\n"
     ]
    }
   ],
   "source": [
    "X_2 = [\n",
    "    email_to_vector_multinomial(email, vocab)\n",
    "    for email in emails_tokenized_ham + emails_tokenized_spam\n",
    "]\n",
    "print(emails_tokenized_ham[0][0]) # first word of ham emails\n",
    "print(vocab[emails_tokenized_ham[0][0]]) # id of the word \"date\" in the vocabulary\n",
    "print(len(emails_tokenized_ham + emails_tokenized_spam)) # number of letters\n",
    "print(X_2[0][:7]) #part of array of id's of the first letter\n",
    "print(np.shape(X_2)) # result - vector of arrays of id's of letters"
   ]
  },
  {
   "cell_type": "code",
   "execution_count": 10,
   "metadata": {
    "scrolled": true
   },
   "outputs": [
    {
     "name": "stdout",
     "output_type": "stream",
     "text": [
      "1520414\n"
     ]
    },
    {
     "data": {
      "text/plain": [
       "1520414"
      ]
     },
     "execution_count": 10,
     "metadata": {},
     "output_type": "execute_result"
    }
   ],
   "source": [
    "s = 0\n",
    "print(sum(sum(X_1))) #to check that vectorization is correct\n",
    "for row in X_2:\n",
    "    s = s + len(row)\n",
    "s"
   ]
  },
  {
   "cell_type": "code",
   "execution_count": 11,
   "metadata": {},
   "outputs": [
    {
     "data": {
      "text/plain": [
       "5542"
      ]
     },
     "execution_count": 11,
     "metadata": {},
     "output_type": "execute_result"
    }
   ],
   "source": [
    "y = np.array([0] * len(emails_tokenized_ham) + [1] * len(emails_tokenized_spam))\n",
    "len(y) # result list is the same for each vectorization"
   ]
  },
  {
   "cell_type": "markdown",
   "metadata": {},
   "source": [
    "Second type of vectorization takes up much less space, first type is really sparse. So the second type of vectorization is much better, despite the fact that its implementation does not immediately come to mind."
   ]
  },
  {
   "cell_type": "markdown",
   "metadata": {},
   "source": [
    "## Train model "
   ]
  },
  {
   "cell_type": "code",
   "execution_count": 12,
   "metadata": {},
   "outputs": [],
   "source": [
    "X_train1, X_test1, y_train1, y_test1 = train_test_split(X_1, y, test_size=0.1, random_state=42) #first vectorization BoW\n",
    "X_train2, X_test2, y_train2, y_test2 = train_test_split(X_2, y, test_size=0.1, random_state=42) #second vectorization Mult"
   ]
  },
  {
   "cell_type": "code",
   "execution_count": 16,
   "metadata": {},
   "outputs": [
    {
     "name": "stdout",
     "output_type": "stream",
     "text": [
      "Ham  796332 , spam  573036\n",
      "Ham  796332 , spam  573036\n"
     ]
    }
   ],
   "source": [
    "ham_total_words_train = sum(sum(email) for email, cls in zip(X_train1, y_train1) if cls == 0)\n",
    "spam_total_words_train = sum(sum(email) for email, cls in zip(X_train1, y_train1) if cls == 1) # this 2 rows take some time\n",
    "\n",
    "print(\"Ham \", ham_total_words_train, \", spam \", spam_total_words_train)\n",
    "\n",
    "ham_total_words_train2 = sum(len(email) for email, cls in zip(X_train2, y_train2) if cls == 0)\n",
    "spam_total_words_train2 = sum(len(email) for email, cls in zip(X_train2, y_train2) if cls == 1)\n",
    "\n",
    "print(\"Ham \", ham_total_words_train2, \", spam \", spam_total_words_train2)"
   ]
  },
  {
   "cell_type": "markdown",
   "metadata": {},
   "source": [
    "#### A priori probabilities for each class:"
   ]
  },
  {
   "cell_type": "code",
   "execution_count": 17,
   "metadata": {},
   "outputs": [
    {
     "name": "stdout",
     "output_type": "stream",
     "text": [
      "-0.3407323507725008\n",
      "-1.2421914129760763\n"
     ]
    }
   ],
   "source": [
    "ham_email_indices = np.where(y_train1 == 0)[0]\n",
    "spam_email_indices = np.where(y_train1 == 1)[0]\n",
    "\n",
    "ham_log_prior = np.log(len(ham_email_indices) / len(y_train1))\n",
    "spam_log_prior = np.log(len(spam_email_indices) / len(y_train1))\n",
    "\n",
    "print(ham_log_prior)\n",
    "print(spam_log_prior)"
   ]
  },
  {
   "cell_type": "markdown",
   "metadata": {},
   "source": [
    "#### Likelihood for each word in the training set:"
   ]
  },
  {
   "cell_type": "markdown",
   "metadata": {},
   "source": [
    "With first vectorization  \n",
    "\n",
    "Huge size of this implementation takes lots of time to training"
   ]
  },
  {
   "cell_type": "code",
   "execution_count": 18,
   "metadata": {},
   "outputs": [
    {
     "name": "stdout",
     "output_type": "stream",
     "text": [
      "93\n",
      "1621905\n",
      "93\n"
     ]
    }
   ],
   "source": [
    "print(sum(X_train1[1]))\n",
    "print(sum(X_train2[1]))\n",
    "print(len(X_train2[1]))"
   ]
  },
  {
   "cell_type": "code",
   "execution_count": 45,
   "metadata": {},
   "outputs": [
    {
     "data": {
      "application/vnd.jupyter.widget-view+json": {
       "model_id": "18756a5befb9498b855fe2ebc04b5fe9",
       "version_major": 2,
       "version_minor": 0
      },
      "text/plain": [
       "HBox(children=(FloatProgress(value=0.0, description='Train', max=4987.0, style=ProgressStyle(description_width…"
      ]
     },
     "metadata": {},
     "output_type": "display_data"
    },
    {
     "name": "stdout",
     "output_type": "stream",
     "text": [
      "\n",
      "796332.0 573036.0\n",
      "[-10.53869861 -13.62974106 -13.62974106 ... -13.62974106 -13.62974106\n",
      " -13.62974106] [ -8.61608208 -11.11933787 -12.62341527 ... -13.31656245 -12.62341527\n",
      " -12.62341527]\n",
      "Wall time: 4min 14s\n"
     ]
    }
   ],
   "source": [
    "%%time\n",
    "\n",
    "ham_log_phi1 = np.zeros(len(vocab), dtype=\"float64\")\n",
    "spam_log_phi1 = np.zeros(len(vocab), dtype=\"float64\")\n",
    "\n",
    "ham_word_counts = np.zeros(len(vocab))\n",
    "spam_word_counts = np.zeros(len(vocab))\n",
    "\n",
    "for email_index in progressbar(range(len(X_train1)), desc=\"Train\"):\n",
    "    i = 0\n",
    "    for word_index in X_train1[email_index]:\n",
    "        if y_train1[email_index] == 0:\n",
    "            ham_word_counts[i] += 1 * word_index # here was my second shop - weights of number of links and numbers are too significant\n",
    "        if y_train1[email_index] == 1:\n",
    "            spam_word_counts[i] += 1 * word_index #I hope that now it works correctly \n",
    "        i = i+1\n",
    "print(sum(ham_word_counts), sum(spam_word_counts))\n",
    "ham_log_phi1 = np.log((ham_word_counts + 1) / (ham_total_words_train + len(vocab)))\n",
    "spam_log_phi1 = np.log((spam_word_counts + 1) / (spam_total_words_train + len(vocab)))\n",
    "\n",
    "print(ham_log_phi1, spam_log_phi1)"
   ]
  },
  {
   "cell_type": "markdown",
   "metadata": {},
   "source": [
    "With second vectorization\n",
    "\n",
    "This implementation works significantly faster"
   ]
  },
  {
   "cell_type": "code",
   "execution_count": 47,
   "metadata": {},
   "outputs": [
    {
     "data": {
      "application/vnd.jupyter.widget-view+json": {
       "model_id": "38104a896f45480bb639d2485d0fc882",
       "version_major": 2,
       "version_minor": 0
      },
      "text/plain": [
       "HBox(children=(FloatProgress(value=0.0, description='Train', max=4987.0, style=ProgressStyle(description_width…"
      ]
     },
     "metadata": {},
     "output_type": "display_data"
    },
    {
     "name": "stdout",
     "output_type": "stream",
     "text": [
      "\n",
      "796332.0 573036.0\n",
      "[-10.53869861 -13.62974106 -13.62974106 ... -13.62974106 -13.62974106\n",
      " -13.62974106] [ -8.61608208 -11.11933787 -12.62341527 ... -13.31656245 -12.62341527\n",
      " -12.62341527]\n",
      "0\n",
      "Wall time: 2.11 s\n"
     ]
    }
   ],
   "source": [
    "%%time\n",
    "\n",
    "ham_log_phi2 = np.zeros(len(vocab), dtype=\"float64\")\n",
    "spam_log_phi2 = np.zeros(len(vocab), dtype=\"float64\")\n",
    "\n",
    "ham_word_counts = np.zeros(len(vocab))\n",
    "spam_word_counts = np.zeros(len(vocab))\n",
    "\n",
    "for email_index in progressbar(range(len(X_train2)), desc=\"Train\"):\n",
    "    for word_index in X_train2[email_index]:\n",
    "        if y_train2[email_index] == 0:\n",
    "            ham_word_counts[word_index] += 1\n",
    "        if y_train2[email_index] == 1:\n",
    "            spam_word_counts[word_index] += 1\n",
    "print(sum(ham_word_counts), sum(spam_word_counts))\n",
    "ham_log_phi2 = np.log((ham_word_counts + 1) / (ham_total_words_train2 + len(vocab)))\n",
    "spam_log_phi2 = np.log((spam_word_counts + 1) / (spam_total_words_train2 + len(vocab)))\n",
    "print(ham_log_phi2, spam_log_phi2)\n",
    "print(sum(ham_log_phi1 != ham_log_phi2))"
   ]
  },
  {
   "cell_type": "markdown",
   "metadata": {},
   "source": [
    "### Predict"
   ]
  },
  {
   "cell_type": "code",
   "execution_count": 74,
   "metadata": {},
   "outputs": [],
   "source": [
    "def predict(X):\n",
    "    y_pred = np.zeros(len(X))\n",
    "  # when I stop here, I understood, then usege of \n",
    "  # new metric in such way - is only my fault) \n",
    "  # now I'll find all my faults!\n",
    "    for i in progressbar(range(len(y_pred)), desc=\"Predict\"):\n",
    "        email_vector = X[i]\n",
    "        ham_sum = 0\n",
    "        spam_sum = 0\n",
    "        for ind,n in enumerate(email_vector):\n",
    "            ham_sum += n * ham_log_phi1[ind] # mistake was here, I find it!!!\n",
    "            spam_sum += n * spam_log_phi1[ind] # but the asymptotics of the solution increased significantly\n",
    "        ham_posterior = ham_sum + ham_log_prior  # I was waited for prediction during 20 minutes) \n",
    "        spam_posterior = spam_sum + spam_log_prior\n",
    "\n",
    "        y_pred[i] = 0 if ham_posterior > spam_posterior else 1 \n",
    "    return y_pred"
   ]
  },
  {
   "cell_type": "code",
   "execution_count": 78,
   "metadata": {},
   "outputs": [],
   "source": [
    "def predict2(X):\n",
    "    y_pred = np.zeros(len(X))\n",
    "\n",
    "    for i in progressbar(range(len(y_pred)), desc=\"Predict\"):\n",
    "        email_vector = X[i]\n",
    "        ham_posterior = ham_log_phi2[email_vector].sum() + ham_log_prior\n",
    "        spam_posterior = spam_log_phi2[email_vector].sum() + spam_log_prior\n",
    "\n",
    "        y_pred[i] = 0 if ham_posterior > spam_posterior else 1\n",
    "    return y_pred"
   ]
  },
  {
   "cell_type": "code",
   "execution_count": 75,
   "metadata": {},
   "outputs": [
    {
     "data": {
      "application/vnd.jupyter.widget-view+json": {
       "model_id": "d7570027ff9941c4bbf7335769bc7163",
       "version_major": 2,
       "version_minor": 0
      },
      "text/plain": [
       "HBox(children=(FloatProgress(value=0.0, description='Predict', max=4987.0, style=ProgressStyle(description_wid…"
      ]
     },
     "metadata": {},
     "output_type": "display_data"
    },
    {
     "name": "stdout",
     "output_type": "stream",
     "text": [
      "\n"
     ]
    },
    {
     "data": {
      "application/vnd.jupyter.widget-view+json": {
       "model_id": "68104231e000405b9b215601f61dfbda",
       "version_major": 2,
       "version_minor": 0
      },
      "text/plain": [
       "HBox(children=(FloatProgress(value=0.0, description='Predict', max=555.0, style=ProgressStyle(description_widt…"
      ]
     },
     "metadata": {},
     "output_type": "display_data"
    },
    {
     "name": "stdout",
     "output_type": "stream",
     "text": [
      "\n",
      "Training accuracy:   97.654%\n",
      "Test accuracy:       97.477%\n"
     ]
    }
   ],
   "source": [
    "pred_train = predict(X_train1) # this prediction takes 20 minutes to check)\n",
    "pred_test = predict(X_test1) # maybe, sparse martices will save lots of time, I think I can make it 2 times faster, but not sure\n",
    "\n",
    "accuracy_train = 1 - np.sum(pred_train != y_train1) / len(y_train1) \n",
    "accuracy_test = 1 - np.sum(pred_test != y_test1) / len(y_test1)\n",
    "\n",
    "print(\"Training accuracy:   {0:.3f}%\".format(accuracy_train * 100))\n",
    "print(\"Test accuracy:       {0:.3f}%\".format(accuracy_test * 100))"
   ]
  },
  {
   "cell_type": "code",
   "execution_count": 79,
   "metadata": {},
   "outputs": [
    {
     "data": {
      "application/vnd.jupyter.widget-view+json": {
       "model_id": "1b55d6d39aee4ab39ab5bbc5b04c92c2",
       "version_major": 2,
       "version_minor": 0
      },
      "text/plain": [
       "HBox(children=(FloatProgress(value=0.0, description='Predict', max=4987.0, style=ProgressStyle(description_wid…"
      ]
     },
     "metadata": {},
     "output_type": "display_data"
    },
    {
     "name": "stdout",
     "output_type": "stream",
     "text": [
      "\n"
     ]
    },
    {
     "data": {
      "application/vnd.jupyter.widget-view+json": {
       "model_id": "15b9d41798654c0aa91839c41233a8fe",
       "version_major": 2,
       "version_minor": 0
      },
      "text/plain": [
       "HBox(children=(FloatProgress(value=0.0, description='Predict', max=555.0, style=ProgressStyle(description_widt…"
      ]
     },
     "metadata": {},
     "output_type": "display_data"
    },
    {
     "name": "stdout",
     "output_type": "stream",
     "text": [
      "\n",
      "Training accuracy:   97.654%\n",
      "Test accuracy:       97.477%\n"
     ]
    }
   ],
   "source": [
    "pred_train2 = predict2(X_train2)\n",
    "pred_test2 = predict2(X_test2)\n",
    "\n",
    "accuracy_train = 1 - np.sum(pred_train != y_train2) / len(y_train2)\n",
    "accuracy_test = 1 - np.sum(pred_test != y_test2) / len(y_test2)\n",
    "\n",
    "print(\"Training accuracy:   {0:.3f}%\".format(accuracy_train * 100))\n",
    "print(\"Test accuracy:       {0:.3f}%\".format(accuracy_test * 100))"
   ]
  },
  {
   "cell_type": "markdown",
   "metadata": {},
   "source": [
    "As we can see, accuracy of each methods of vectorization is equal. It was expected. But second type, without full matrix of emails and vocabulary is much much faster, because first type is too sparse\n",
    "\n",
    "Also we can see, that model doesn't overfit, maybe this is nice property of out training algorithm\n",
    "\n",
    "Soon I'll work just with one of the predicted set of data"
   ]
  },
  {
   "cell_type": "code",
   "execution_count": 80,
   "metadata": {},
   "outputs": [
    {
     "name": "stdout",
     "output_type": "stream",
     "text": [
      "[[405   0]\n",
      " [ 14 136]]\n"
     ]
    },
    {
     "data": {
      "image/png": "[encoded data removed]",
      "text/plain": [
       "<Figure size 648x432 with 2 Axes>"
      ]
     },
     "metadata": {
      "needs_background": "light"
     },
     "output_type": "display_data"
    }
   ],
   "source": [
    "from sklearn.metrics import confusion_matrix\n",
    "cm = confusion_matrix(y_test1, pred_test)\n",
    "print(cm)\n",
    "\n",
    "import seaborn as sns\n",
    "labels = ['Ham','Spam']\n",
    "\n",
    "ax= plt.subplot()\n",
    "sns.heatmap(cm, annot=True, ax = ax); #annot=True to annotate cells\n",
    "\n",
    "# labels, title and ticks\n",
    "ax.set_xlabel('Predicted labels');ax.set_ylabel('True labels'); \n",
    "ax.set_title('Confusion Matrix'); \n",
    "ax.xaxis.set_ticklabels(labels); \n",
    "ax.yaxis.set_ticklabels(labels);"
   ]
  },
  {
   "cell_type": "markdown",
   "metadata": {},
   "source": [
    "## Evaluating\n",
    "\n",
    "There are several metrics to evaluate our model \n",
    "\n",
    "TP - true positive predicion\n",
    "\n",
    "FP - false positive(incorrect)\n",
    "\n",
    "TN - true negative\n",
    "\n",
    "FN - false negative(incorrect)\n",
    "\n",
    "$$accuracy = \\frac{TP + TN}{All} $$\n",
    "\n",
    "\n",
    "$$precision = \\frac{TP}{TP + FP} $$\n",
    "\n",
    "\n",
    "$$recall = \\frac{TP}{TP + FN} $$\n",
    "\n",
    "$$F_\\beta = (1+\\beta^2) * \\frac{precision * recall}{\\beta^2*precision + recall}$$"
   ]
  },
  {
   "cell_type": "code",
   "execution_count": 92,
   "metadata": {},
   "outputs": [
    {
     "name": "stdout",
     "output_type": "stream",
     "text": [
      "              precision    recall  f1-score   support\n",
      "\n",
      "         Ham       0.97      1.00      0.98       405\n",
      "        Spam       1.00      0.91      0.95       150\n",
      "\n",
      "    accuracy                           0.97       555\n",
      "   macro avg       0.98      0.95      0.97       555\n",
      "weighted avg       0.98      0.97      0.97       555\n",
      "\n"
     ]
    }
   ],
   "source": [
    "from sklearn.metrics import classification_report\n",
    "print(classification_report(y_test1,  pred_test, target_names = labels))"
   ]
  },
  {
   "cell_type": "markdown",
   "metadata": {},
   "source": [
    "Also exist ROC-curve, which show the performance of a binary classifier\n",
    "But our classifier makes lack of mistakes, so our ROC curve looks strange "
   ]
  },
  {
   "cell_type": "code",
   "execution_count": 124,
   "metadata": {},
   "outputs": [
    {
     "data": {
      "image/png": "[encoded data removed]",
      "text/plain": [
       "<Figure size 720x576 with 1 Axes>"
      ]
     },
     "metadata": {},
     "output_type": "display_data"
    }
   ],
   "source": [
    "from sklearn.metrics import roc_curve\n",
    "sns.set(font_scale=1.5)\n",
    "sns.set_color_codes(\"muted\")\n",
    "\n",
    "plt.figure(figsize=(10, 8))\n",
    "fpr, tpr, thresholds = roc_curve(y_test2, pred_test, pos_label=1)\n",
    "lw = 3\n",
    "plt.plot(fpr, tpr, lw=lw, label='ROC curve ')\n",
    "plt.plot([0, 1], [0, 1])\n",
    "plt.title('ROC curve')\n",
    "plt.show()"
   ]
  },
  {
   "cell_type": "markdown",
   "metadata": {},
   "source": [
    "### Multinomial Naive Bayes from sklearn"
   ]
  },
  {
   "cell_type": "markdown",
   "metadata": {},
   "source": [
    "Sklearn has a built-in model for training the multinomial naive Bayes algorithm. As we can see, the results of the prediction accuracy of out and built-in model are the same."
   ]
  },
  {
   "cell_type": "code",
   "execution_count": 136,
   "metadata": {},
   "outputs": [
    {
     "name": "stdout",
     "output_type": "stream",
     "text": [
      "              precision    recall  f1-score   support\n",
      "\n",
      "         Ham       0.97      1.00      0.98       405\n",
      "        Spam       1.00      0.91      0.95       150\n",
      "\n",
      "    accuracy                           0.97       555\n",
      "   macro avg       0.98      0.95      0.97       555\n",
      "weighted avg       0.98      0.97      0.97       555\n",
      "\n",
      "Wall time: 3.81 s\n"
     ]
    }
   ],
   "source": [
    "%%time\n",
    "\n",
    "from sklearn.naive_bayes import MultinomialNB\n",
    "clf = MultinomialNB()\n",
    "clf.fit(X_train1, y_train1)\n",
    "\n",
    "y_mult = clf.predict(X_test1)\n",
    "\n",
    "print(classification_report(y_test1, y_mult,target_names = labels))"
   ]
  }
 ],
 "metadata": {
  "kernelspec": {
   "display_name": "Python 3",
   "language": "python",
   "name": "python3"
  },
  "language_info": {
   "codemirror_mode": {
    "name": "ipython",
    "version": 3
   },
   "file_extension": ".py",
   "mimetype": "text/x-python",
   "name": "python",
   "nbconvert_exporter": "python",
   "pygments_lexer": "ipython3",
   "version": "3.8.3"
  }
 },
 "nbformat": 4,
 "nbformat_minor": 4
}
